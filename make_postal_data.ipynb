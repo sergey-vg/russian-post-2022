{
 "cells": [
  {
   "cell_type": "markdown",
   "id": "b4d2b9a4",
   "metadata": {},
   "source": [
    "## Импорт необходимых библиотек"
   ]
  },
  {
   "cell_type": "markdown",
   "id": "d28a90d7",
   "metadata": {},
   "source": [
    "С помощью библиотеки Dadata можно получить информацию о пункте по почтовому индексу"
   ]
  },
  {
   "cell_type": "code",
   "execution_count": 1,
   "id": "aee6ec2d",
   "metadata": {},
   "outputs": [],
   "source": [
    "from dadata import Dadata\n",
    "import numpy as np\n",
    "import pandas as pd\n",
    "import pickle\n",
    "from tqdm.auto import tqdm"
   ]
  },
  {
   "cell_type": "markdown",
   "id": "ac700cd6",
   "metadata": {},
   "source": [
    "## Подготовка данных"
   ]
  },
  {
   "cell_type": "markdown",
   "id": "5734f1d3",
   "metadata": {},
   "source": [
    "Открываем файлы с данными и получаем список различных почтовых индексов"
   ]
  },
  {
   "cell_type": "code",
   "execution_count": 2,
   "id": "32940d6d",
   "metadata": {},
   "outputs": [
    {
     "data": {
      "text/plain": [
       "array([     0, 101000, 102002, ..., 694920, 694923, 694928])"
      ]
     },
     "execution_count": 2,
     "metadata": {},
     "output_type": "execute_result"
    }
   ],
   "source": [
    "values = np.concatenate([\n",
    "    pd.read_csv('./data/train_dataset_train.csv', index_col='id', low_memory=False).index_oper.values,\n",
    "    pd.read_csv('./data/test_dataset_test.csv', index_col='id', low_memory=False).index_oper.values\n",
    "])\n",
    "values = np.unique(values[values != ' '].astype(float).astype(int))\n",
    "values"
   ]
  },
  {
   "cell_type": "markdown",
   "id": "b87d246b",
   "metadata": {},
   "source": [
    "В день бесплатно можно выполнить органиченное число запросов. Используем лимит из первого аккаунта"
   ]
  },
  {
   "cell_type": "code",
   "execution_count": 3,
   "id": "70ca0946",
   "metadata": {},
   "outputs": [],
   "source": [
    "token = \"first_token\"\n",
    "dadata = Dadata(token)"
   ]
  },
  {
   "cell_type": "code",
   "execution_count": 4,
   "id": "89756495",
   "metadata": {},
   "outputs": [
    {
     "data": {
      "application/vnd.jupyter.widget-view+json": {
       "model_id": "dea1519b89864aeaba24d1f73d0bb7bc",
       "version_major": 2,
       "version_minor": 0
      },
      "text/plain": [
       "  0%|          | 0/21501 [00:00<?, ?it/s]"
      ]
     },
     "metadata": {},
     "output_type": "display_data"
    },
    {
     "ename": "HTTPStatusError",
     "evalue": "Client error '403 Forbidden' for url 'https://suggestions.dadata.ru/suggestions/api/4_1/rs/suggest/postal_unit'\nFor more information check: https://httpstatuses.com/403",
     "output_type": "error",
     "traceback": [
      "\u001b[1;31m---------------------------------------------------------------------------\u001b[0m",
      "\u001b[1;31mHTTPStatusError\u001b[0m                           Traceback (most recent call last)",
      "Input \u001b[1;32mIn [22]\u001b[0m, in \u001b[0;36m<cell line: 4>\u001b[1;34m()\u001b[0m\n\u001b[0;32m      3\u001b[0m data \u001b[38;5;241m=\u001b[39m []\n\u001b[0;32m      4\u001b[0m \u001b[38;5;28;01mfor\u001b[39;00m value \u001b[38;5;129;01min\u001b[39;00m tqdm(values):\n\u001b[0;32m      5\u001b[0m     data\u001b[38;5;241m.\u001b[39mappend((\n\u001b[0;32m      6\u001b[0m         value,\n\u001b[1;32m----> 7\u001b[0m         \u001b[43mdadata\u001b[49m\u001b[38;5;241;43m.\u001b[39;49m\u001b[43msuggest\u001b[49m\u001b[43m(\u001b[49m\u001b[43mname\u001b[49m\u001b[38;5;241;43m=\u001b[39;49m\u001b[38;5;124;43m\"\u001b[39;49m\u001b[38;5;124;43mpostal_unit\u001b[39;49m\u001b[38;5;124;43m\"\u001b[39;49m\u001b[43m,\u001b[49m\u001b[43m \u001b[49m\u001b[43mquery\u001b[49m\u001b[38;5;241;43m=\u001b[39;49m\u001b[38;5;28;43mstr\u001b[39;49m\u001b[43m(\u001b[49m\u001b[43mvalue\u001b[49m\u001b[43m)\u001b[49m\u001b[43m)\u001b[49m\n\u001b[0;32m      8\u001b[0m     ))\n",
      "File \u001b[1;32m~\\anaconda3\\lib\\site-packages\\dadata\\sync.py:188\u001b[0m, in \u001b[0;36mDadataClient.suggest\u001b[1;34m(self, name, query, count, **kwargs)\u001b[0m\n\u001b[0;32m    184\u001b[0m \u001b[38;5;28;01mdef\u001b[39;00m \u001b[38;5;21msuggest\u001b[39m(\n\u001b[0;32m    185\u001b[0m     \u001b[38;5;28mself\u001b[39m, name: \u001b[38;5;28mstr\u001b[39m, query: \u001b[38;5;28mstr\u001b[39m, count: \u001b[38;5;28mint\u001b[39m \u001b[38;5;241m=\u001b[39m settings\u001b[38;5;241m.\u001b[39mSUGGESTION_COUNT, \u001b[38;5;241m*\u001b[39m\u001b[38;5;241m*\u001b[39mkwargs\n\u001b[0;32m    186\u001b[0m ) \u001b[38;5;241m-\u001b[39m\u001b[38;5;241m>\u001b[39m List[Dict]:\n\u001b[0;32m    187\u001b[0m     \u001b[38;5;124;03m\"\"\"Suggest from `name` directory according to given `query`.\"\"\"\u001b[39;00m\n\u001b[1;32m--> 188\u001b[0m     \u001b[38;5;28;01mreturn\u001b[39;00m \u001b[38;5;28mself\u001b[39m\u001b[38;5;241m.\u001b[39m_suggestions\u001b[38;5;241m.\u001b[39msuggest(name\u001b[38;5;241m=\u001b[39mname, query\u001b[38;5;241m=\u001b[39mquery, count\u001b[38;5;241m=\u001b[39mcount, \u001b[38;5;241m*\u001b[39m\u001b[38;5;241m*\u001b[39mkwargs)\n",
      "File \u001b[1;32m~\\anaconda3\\lib\\site-packages\\dadata\\sync.py:103\u001b[0m, in \u001b[0;36mSuggestClient.suggest\u001b[1;34m(self, name, query, count, **kwargs)\u001b[0m\n\u001b[0;32m    101\u001b[0m data \u001b[38;5;241m=\u001b[39m {\u001b[38;5;124m\"\u001b[39m\u001b[38;5;124mquery\u001b[39m\u001b[38;5;124m\"\u001b[39m: query, \u001b[38;5;124m\"\u001b[39m\u001b[38;5;124mcount\u001b[39m\u001b[38;5;124m\"\u001b[39m: count}\n\u001b[0;32m    102\u001b[0m data\u001b[38;5;241m.\u001b[39mupdate(kwargs)\n\u001b[1;32m--> 103\u001b[0m response \u001b[38;5;241m=\u001b[39m \u001b[38;5;28;43mself\u001b[39;49m\u001b[38;5;241;43m.\u001b[39;49m\u001b[43m_post\u001b[49m\u001b[43m(\u001b[49m\u001b[43murl\u001b[49m\u001b[43m,\u001b[49m\u001b[43m \u001b[49m\u001b[43mdata\u001b[49m\u001b[43m)\u001b[49m\n\u001b[0;32m    104\u001b[0m \u001b[38;5;28;01mreturn\u001b[39;00m response[\u001b[38;5;124m\"\u001b[39m\u001b[38;5;124msuggestions\u001b[39m\u001b[38;5;124m\"\u001b[39m]\n",
      "File \u001b[1;32m~\\anaconda3\\lib\\site-packages\\dadata\\sync.py:43\u001b[0m, in \u001b[0;36mClientBase._post\u001b[1;34m(self, url, data, timeout)\u001b[0m\n\u001b[0;32m     41\u001b[0m \u001b[38;5;124;03m\"\"\"POST request to Dadata API\"\"\"\u001b[39;00m\n\u001b[0;32m     42\u001b[0m response \u001b[38;5;241m=\u001b[39m \u001b[38;5;28mself\u001b[39m\u001b[38;5;241m.\u001b[39m_client\u001b[38;5;241m.\u001b[39mpost(url, json\u001b[38;5;241m=\u001b[39mdata, timeout\u001b[38;5;241m=\u001b[39mtimeout)\n\u001b[1;32m---> 43\u001b[0m \u001b[43mresponse\u001b[49m\u001b[38;5;241;43m.\u001b[39;49m\u001b[43mraise_for_status\u001b[49m\u001b[43m(\u001b[49m\u001b[43m)\u001b[49m\n\u001b[0;32m     44\u001b[0m \u001b[38;5;28;01mreturn\u001b[39;00m response\u001b[38;5;241m.\u001b[39mjson()\n",
      "File \u001b[1;32m~\\anaconda3\\lib\\site-packages\\httpx\\_models.py:736\u001b[0m, in \u001b[0;36mResponse.raise_for_status\u001b[1;34m(self)\u001b[0m\n\u001b[0;32m    734\u001b[0m error_type \u001b[38;5;241m=\u001b[39m error_types\u001b[38;5;241m.\u001b[39mget(status_class, \u001b[38;5;124m\"\u001b[39m\u001b[38;5;124mInvalid status code\u001b[39m\u001b[38;5;124m\"\u001b[39m)\n\u001b[0;32m    735\u001b[0m message \u001b[38;5;241m=\u001b[39m message\u001b[38;5;241m.\u001b[39mformat(\u001b[38;5;28mself\u001b[39m, error_type\u001b[38;5;241m=\u001b[39merror_type)\n\u001b[1;32m--> 736\u001b[0m \u001b[38;5;28;01mraise\u001b[39;00m HTTPStatusError(message, request\u001b[38;5;241m=\u001b[39mrequest, response\u001b[38;5;241m=\u001b[39m\u001b[38;5;28mself\u001b[39m)\n",
      "\u001b[1;31mHTTPStatusError\u001b[0m: Client error '403 Forbidden' for url 'https://suggestions.dadata.ru/suggestions/api/4_1/rs/suggest/postal_unit'\nFor more information check: https://httpstatuses.com/403"
     ]
    }
   ],
   "source": [
    "data = []\n",
    "for value in tqdm(values):\n",
    "    data.append((\n",
    "        value,\n",
    "        dadata.suggest(name=\"postal_unit\", query=str(value))\n",
    "    ))"
   ]
  },
  {
   "cell_type": "code",
   "execution_count": 5,
   "id": "ec4c8b69",
   "metadata": {},
   "outputs": [
    {
     "data": {
      "text/plain": [
       "14801"
      ]
     },
     "execution_count": 5,
     "metadata": {},
     "output_type": "execute_result"
    }
   ],
   "source": [
    "len(data)"
   ]
  },
  {
   "cell_type": "markdown",
   "id": "3002af18",
   "metadata": {},
   "source": [
    "Информацию по оставшимся получим с помощью второго аккаунта"
   ]
  },
  {
   "cell_type": "code",
   "execution_count": 6,
   "id": "b780b218",
   "metadata": {},
   "outputs": [],
   "source": [
    "token = \"second_token\"\n",
    "dadata = Dadata(token)"
   ]
  },
  {
   "cell_type": "code",
   "execution_count": 7,
   "id": "bae97c73",
   "metadata": {},
   "outputs": [
    {
     "data": {
      "application/vnd.jupyter.widget-view+json": {
       "model_id": "a3d19e3f8bed4e518d104472a34ce2f7",
       "version_major": 2,
       "version_minor": 0
      },
      "text/plain": [
       "  0%|          | 0/6700 [00:00<?, ?it/s]"
      ]
     },
     "metadata": {},
     "output_type": "display_data"
    }
   ],
   "source": [
    "data2 = []\n",
    "for value in tqdm(values[len(data):]):\n",
    "    data2.append((\n",
    "        value,\n",
    "        dadata.suggest(name=\"postal_unit\", query=str(value))\n",
    "    ))"
   ]
  },
  {
   "cell_type": "markdown",
   "id": "455a49b8",
   "metadata": {},
   "source": [
    "Сохраним данные, чтобы не потерять"
   ]
  },
  {
   "cell_type": "code",
   "execution_count": 8,
   "id": "87f12b63",
   "metadata": {},
   "outputs": [],
   "source": [
    "assert len(data) + len(data2) == len(values)"
   ]
  },
  {
   "cell_type": "code",
   "execution_count": 9,
   "id": "9d01e5c3",
   "metadata": {},
   "outputs": [],
   "source": [
    "all_data = data + data2"
   ]
  },
  {
   "cell_type": "code",
   "execution_count": 10,
   "id": "6a45827b",
   "metadata": {},
   "outputs": [],
   "source": [
    "with open('./data/postal_data.pckl', 'wb') as f:\n",
    "    pickle.dump(all_data, f)"
   ]
  },
  {
   "cell_type": "markdown",
   "id": "7b35bf8c",
   "metadata": {},
   "source": [
    "## Создание датасета с дополнительной информацией"
   ]
  },
  {
   "cell_type": "markdown",
   "id": "a080039c",
   "metadata": {},
   "source": [
    "Открываем полученные данные"
   ]
  },
  {
   "cell_type": "code",
   "execution_count": 12,
   "id": "e2e2f4dd",
   "metadata": {},
   "outputs": [],
   "source": [
    "with open('./data/postal_data.pckl', 'rb') as f:\n",
    "    postal_data = pickle.load(f)"
   ]
  },
  {
   "cell_type": "markdown",
   "id": "c6af9072",
   "metadata": {},
   "source": [
    "Для некоторых индексов (и пропуска) не удалось получить информацию"
   ]
  },
  {
   "cell_type": "code",
   "execution_count": 13,
   "id": "6bec7ca6",
   "metadata": {},
   "outputs": [
    {
     "name": "stdout",
     "output_type": "stream",
     "text": [
      "0 2\n",
      "110 0\n",
      "4068 0\n",
      "4708 0\n",
      "12788 0\n",
      "16989 0\n",
      "16990 0\n",
      "16991 0\n",
      "16992 0\n",
      "16993 0\n"
     ]
    },
    {
     "data": {
      "text/plain": [
       "{0, 108957, 215057, 249287, 443322, 630301, 630302, 630303, 630311, 630321}"
      ]
     },
     "execution_count": 13,
     "metadata": {},
     "output_type": "execute_result"
    }
   ],
   "source": [
    "bad_indexes = []\n",
    "\n",
    "for i in range(len(postal_data)):\n",
    "    if len(postal_data[i][1]) != 1:\n",
    "        print(i, len(postal_data[i][1]))\n",
    "        bad_indexes.append(postal_data[i][0])\n",
    "    else:\n",
    "        if str(postal_data[i][0]) != postal_data[i][1][0]['value']:\n",
    "            print(i)\n",
    "            bad_indexes.append(postal_data[i][0])\n",
    "            \n",
    "bad_indexes = set(bad_indexes)\n",
    "bad_indexes"
   ]
  },
  {
   "cell_type": "markdown",
   "id": "3a859432",
   "metadata": {},
   "source": [
    "Пример собранных данных"
   ]
  },
  {
   "cell_type": "code",
   "execution_count": 14,
   "id": "59e30ef2",
   "metadata": {},
   "outputs": [
    {
     "data": {
      "text/plain": [
       "(107065,\n",
       " [{'value': '107065',\n",
       "   'unrestricted_value': 'г Москва, ул Уссурийская, д 11 к 1',\n",
       "   'data': {'postal_code': '107065',\n",
       "    'is_closed': False,\n",
       "    'type_code': 'ГОПС',\n",
       "    'address_str': 'г Москва, ул Уссурийская, д 11 к 1',\n",
       "    'address_kladr_id': '7700000000000',\n",
       "    'address_qc': '0',\n",
       "    'geo_lat': 55.824784,\n",
       "    'geo_lon': 37.820628,\n",
       "    'schedule_mon': '08:00-21:00',\n",
       "    'schedule_tue': '08:00-21:00',\n",
       "    'schedule_wed': '08:00-21:00',\n",
       "    'schedule_thu': '08:00-21:00',\n",
       "    'schedule_fri': '08:00-21:00',\n",
       "    'schedule_sat': '09:00-18:00',\n",
       "    'schedule_sun': '09:00-14:00'}}])"
      ]
     },
     "execution_count": 14,
     "metadata": {},
     "output_type": "execute_result"
    }
   ],
   "source": [
    "postal_data[56]"
   ]
  },
  {
   "cell_type": "markdown",
   "id": "414f07e6",
   "metadata": {},
   "source": [
    "Запишем долготу, широту, индекс региона"
   ]
  },
  {
   "cell_type": "code",
   "execution_count": 15,
   "id": "8a24e0a1",
   "metadata": {
    "scrolled": false
   },
   "outputs": [
    {
     "data": {
      "application/vnd.jupyter.widget-view+json": {
       "model_id": "a0588dd7b608415aa9575adfab4ff809",
       "version_major": 2,
       "version_minor": 0
      },
      "text/plain": [
       "  0%|          | 0/21501 [00:00<?, ?it/s]"
      ]
     },
     "metadata": {},
     "output_type": "display_data"
    },
    {
     "data": {
      "text/html": [
       "<div>\n",
       "<style scoped>\n",
       "    .dataframe tbody tr th:only-of-type {\n",
       "        vertical-align: middle;\n",
       "    }\n",
       "\n",
       "    .dataframe tbody tr th {\n",
       "        vertical-align: top;\n",
       "    }\n",
       "\n",
       "    .dataframe thead th {\n",
       "        text-align: right;\n",
       "    }\n",
       "</style>\n",
       "<table border=\"1\" class=\"dataframe\">\n",
       "  <thead>\n",
       "    <tr style=\"text-align: right;\">\n",
       "      <th></th>\n",
       "      <th>geo_lat</th>\n",
       "      <th>geo_lon</th>\n",
       "      <th>region</th>\n",
       "    </tr>\n",
       "    <tr>\n",
       "      <th>index_oper</th>\n",
       "      <th></th>\n",
       "      <th></th>\n",
       "      <th></th>\n",
       "    </tr>\n",
       "  </thead>\n",
       "  <tbody>\n",
       "    <tr>\n",
       "      <th>0</th>\n",
       "      <td>0.000000</td>\n",
       "      <td>0.000000</td>\n",
       "      <td>None</td>\n",
       "    </tr>\n",
       "    <tr>\n",
       "      <th>101000</th>\n",
       "      <td>55.763944</td>\n",
       "      <td>37.637281</td>\n",
       "      <td>77</td>\n",
       "    </tr>\n",
       "    <tr>\n",
       "      <th>102002</th>\n",
       "      <td>55.776148</td>\n",
       "      <td>37.662749</td>\n",
       "      <td>77</td>\n",
       "    </tr>\n",
       "    <tr>\n",
       "      <th>102007</th>\n",
       "      <td>55.776148</td>\n",
       "      <td>37.662749</td>\n",
       "      <td>77</td>\n",
       "    </tr>\n",
       "    <tr>\n",
       "      <th>102102</th>\n",
       "      <td>55.777570</td>\n",
       "      <td>37.660197</td>\n",
       "      <td>77</td>\n",
       "    </tr>\n",
       "    <tr>\n",
       "      <th>...</th>\n",
       "      <td>...</td>\n",
       "      <td>...</td>\n",
       "      <td>...</td>\n",
       "    </tr>\n",
       "    <tr>\n",
       "      <th>694910</th>\n",
       "      <td>49.158792</td>\n",
       "      <td>142.110316</td>\n",
       "      <td>65</td>\n",
       "    </tr>\n",
       "    <tr>\n",
       "      <th>694914</th>\n",
       "      <td>49.655256</td>\n",
       "      <td>142.182585</td>\n",
       "      <td>65</td>\n",
       "    </tr>\n",
       "    <tr>\n",
       "      <th>694920</th>\n",
       "      <td>49.079463</td>\n",
       "      <td>142.062490</td>\n",
       "      <td>65</td>\n",
       "    </tr>\n",
       "    <tr>\n",
       "      <th>694923</th>\n",
       "      <td>49.073703</td>\n",
       "      <td>142.032854</td>\n",
       "      <td>65</td>\n",
       "    </tr>\n",
       "    <tr>\n",
       "      <th>694928</th>\n",
       "      <td>49.079463</td>\n",
       "      <td>142.062490</td>\n",
       "      <td>65</td>\n",
       "    </tr>\n",
       "  </tbody>\n",
       "</table>\n",
       "<p>21501 rows × 3 columns</p>\n",
       "</div>"
      ],
      "text/plain": [
       "              geo_lat     geo_lon region\n",
       "index_oper                              \n",
       "0            0.000000    0.000000   None\n",
       "101000      55.763944   37.637281     77\n",
       "102002      55.776148   37.662749     77\n",
       "102007      55.776148   37.662749     77\n",
       "102102      55.777570   37.660197     77\n",
       "...               ...         ...    ...\n",
       "694910      49.158792  142.110316     65\n",
       "694914      49.655256  142.182585     65\n",
       "694920      49.079463  142.062490     65\n",
       "694923      49.073703  142.032854     65\n",
       "694928      49.079463  142.062490     65\n",
       "\n",
       "[21501 rows x 3 columns]"
      ]
     },
     "execution_count": 15,
     "metadata": {},
     "output_type": "execute_result"
    }
   ],
   "source": [
    "df = []\n",
    "for v in tqdm(postal_data):\n",
    "    index_oper = v[0]\n",
    "    \n",
    "    if index_oper in bad_indexes:\n",
    "        df.append({\n",
    "            'index_oper': index_oper,\n",
    "        })\n",
    "        continue\n",
    "\n",
    "    v = v[1][0]['data']\n",
    "    \n",
    "    features = {\n",
    "        'index_oper': index_oper,\n",
    "        'geo_lat': v['geo_lat'],\n",
    "        'geo_lon': v['geo_lon'],\n",
    "    }\n",
    "    \n",
    "    if v['address_kladr_id'] is not None:\n",
    "        features['region'] = v['address_kladr_id'][:2]\n",
    "    \n",
    "    df.append(features)\n",
    "\n",
    "df = pd.DataFrame(df).set_index('index_oper')\n",
    "df[['geo_lat', 'geo_lon']] = df[['geo_lat', 'geo_lon']].fillna(0)\n",
    "df['region'] = df['region'].fillna('None')\n",
    "df"
   ]
  },
  {
   "cell_type": "markdown",
   "id": "1634b580",
   "metadata": {},
   "source": [
    "Сохраним датасет"
   ]
  },
  {
   "cell_type": "code",
   "execution_count": 16,
   "id": "a6f422b1",
   "metadata": {},
   "outputs": [],
   "source": [
    "df.to_csv('./data/postal_data.csv')"
   ]
  }
 ],
 "metadata": {
  "kernelspec": {
   "display_name": "Python 3 (ipykernel)",
   "language": "python",
   "name": "python3"
  },
  "language_info": {
   "codemirror_mode": {
    "name": "ipython",
    "version": 3
   },
   "file_extension": ".py",
   "mimetype": "text/x-python",
   "name": "python",
   "nbconvert_exporter": "python",
   "pygments_lexer": "ipython3",
   "version": "3.9.12"
  },
  "widgets": {
   "application/vnd.jupyter.widget-state+json": {
    "state": {
     "2071535269314150a31cd9143e73dd00": {
      "model_module": "@jupyter-widgets/controls",
      "model_module_version": "1.5.0",
      "model_name": "ProgressStyleModel",
      "state": {
       "description_width": ""
      }
     },
     "4478acfd657249cda5fb17183404702d": {
      "model_module": "@jupyter-widgets/controls",
      "model_module_version": "1.5.0",
      "model_name": "DescriptionStyleModel",
      "state": {
       "description_width": ""
      }
     },
     "49a6c47f5575427286b42d51729d30b9": {
      "model_module": "@jupyter-widgets/controls",
      "model_module_version": "1.5.0",
      "model_name": "FloatProgressModel",
      "state": {
       "bar_style": "success",
       "layout": "IPY_MODEL_7049cfd58b024b6d9fd0eae6d9139997",
       "max": 21501,
       "style": "IPY_MODEL_2071535269314150a31cd9143e73dd00",
       "value": 21501
      }
     },
     "51239bf181e54ddaaba731c5743406db": {
      "model_module": "@jupyter-widgets/controls",
      "model_module_version": "1.5.0",
      "model_name": "HTMLModel",
      "state": {
       "layout": "IPY_MODEL_8af90c78bcdf41868489294fbd3a1a87",
       "style": "IPY_MODEL_4478acfd657249cda5fb17183404702d",
       "value": " 21501/21501 [00:00&lt;00:00, 31613.20it/s]"
      }
     },
     "58ae7f225d4143d6865fb824a0f5cd3b": {
      "model_module": "@jupyter-widgets/controls",
      "model_module_version": "1.5.0",
      "model_name": "DescriptionStyleModel",
      "state": {
       "description_width": ""
      }
     },
     "7049cfd58b024b6d9fd0eae6d9139997": {
      "model_module": "@jupyter-widgets/base",
      "model_module_version": "1.2.0",
      "model_name": "LayoutModel",
      "state": {}
     },
     "77414eb90a294987a6f7b83525e0b5af": {
      "model_module": "@jupyter-widgets/base",
      "model_module_version": "1.2.0",
      "model_name": "LayoutModel",
      "state": {}
     },
     "8af90c78bcdf41868489294fbd3a1a87": {
      "model_module": "@jupyter-widgets/base",
      "model_module_version": "1.2.0",
      "model_name": "LayoutModel",
      "state": {}
     },
     "a0588dd7b608415aa9575adfab4ff809": {
      "model_module": "@jupyter-widgets/controls",
      "model_module_version": "1.5.0",
      "model_name": "HBoxModel",
      "state": {
       "children": [
        "IPY_MODEL_d099f6c09e3c411aa4839bb33c99068a",
        "IPY_MODEL_49a6c47f5575427286b42d51729d30b9",
        "IPY_MODEL_51239bf181e54ddaaba731c5743406db"
       ],
       "layout": "IPY_MODEL_ccabaa3c00ce482a9d93482ac414a97c"
      }
     },
     "ccabaa3c00ce482a9d93482ac414a97c": {
      "model_module": "@jupyter-widgets/base",
      "model_module_version": "1.2.0",
      "model_name": "LayoutModel",
      "state": {}
     },
     "d099f6c09e3c411aa4839bb33c99068a": {
      "model_module": "@jupyter-widgets/controls",
      "model_module_version": "1.5.0",
      "model_name": "HTMLModel",
      "state": {
       "layout": "IPY_MODEL_77414eb90a294987a6f7b83525e0b5af",
       "style": "IPY_MODEL_58ae7f225d4143d6865fb824a0f5cd3b",
       "value": "100%"
      }
     }
    },
    "version_major": 2,
    "version_minor": 0
   }
  }
 },
 "nbformat": 4,
 "nbformat_minor": 5
}
