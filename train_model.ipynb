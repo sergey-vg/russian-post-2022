{
 "cells": [
  {
   "cell_type": "markdown",
   "id": "ad804c5f",
   "metadata": {},
   "source": [
    "## Импорт необходимых библиотек"
   ]
  },
  {
   "cell_type": "code",
   "execution_count": 1,
   "id": "736f0e06",
   "metadata": {
    "cellId": "yo5uww3w1r9fybneut8m6u"
   },
   "outputs": [],
   "source": [
    "from catboost import CatBoostClassifier, Pool\n",
    "import gc\n",
    "import numpy as np\n",
    "import pandas as pd\n",
    "import random\n",
    "from sklearn.metrics import recall_score\n",
    "from tqdm.notebook import tqdm\n",
    "import warnings"
   ]
  },
  {
   "cell_type": "code",
   "execution_count": 2,
   "id": "4b6d42d0",
   "metadata": {
    "cellId": "0yrsr4cenzfjdam2imar94t"
   },
   "outputs": [],
   "source": [
    "warnings.filterwarnings('ignore')\n",
    "pd.set_option('display.max_columns', 256)"
   ]
  },
  {
   "cell_type": "markdown",
   "id": "d5d28caf",
   "metadata": {},
   "source": [
    "## Подготовка данных"
   ]
  },
  {
   "cell_type": "markdown",
   "id": "e8d8e8be",
   "metadata": {},
   "source": [
    "Открываем файлы с данными"
   ]
  },
  {
   "cell_type": "code",
   "execution_count": 3,
   "id": "ac30fa99",
   "metadata": {
    "cellId": "7pqw2l14ukqi1saqx3mgi"
   },
   "outputs": [],
   "source": [
    "postal_data = pd.read_csv('./data/postal_data.csv', index_col='index_oper')\n",
    "postal_data"
   ]
  },
  {
   "cell_type": "code",
   "execution_count": 4,
   "id": "5a8afe7e",
   "metadata": {
    "cellId": "b76utme3p89j3wy6c9m4bq"
   },
   "outputs": [],
   "source": [
    "numeric = ['priority', 'weight', 'transport_pay', 'weight_mfi', 'price_mfi', 'dist_qty_oper_login_1', 'total_qty_oper_login_1', 'total_qty_oper_login_0', 'total_qty_over_index_and_type', 'total_qty_over_index']\n",
    "is_wrong = ['is_wrong_sndr_name', 'is_wrong_rcpn_name', 'is_wrong_phone_number', 'is_wrong_address']\n",
    "\n",
    "train_data = pd.read_csv('./data/train_dataset_train.csv', index_col='id', low_memory=False)\n",
    "test_data = pd.read_csv('./data/test_dataset_test.csv', index_col='id', low_memory=False)\n",
    "\n",
    "train_data.loc[train_data['index_oper']==' ', 'index_oper'] = '0'\n",
    "train_data['index_oper'] = train_data['index_oper'].astype(float).astype(int)\n",
    "test_data.loc[test_data['index_oper']==' ', 'index_oper'] = '0'\n",
    "test_data['index_oper'] = test_data['index_oper'].astype(float).astype(int)\n",
    "    \n",
    "train_data"
   ]
  },
  {
   "cell_type": "code",
   "execution_count": 6,
   "id": "607aab75",
   "metadata": {
    "cellId": "rdz7na75paz2b3af92fxh"
   },
   "outputs": [],
   "source": [
    "data = pd.concat([train_data, test_data])"
   ]
  },
  {
   "cell_type": "code",
   "execution_count": 7,
   "id": "12cd9873",
   "metadata": {
    "cellId": "9qmnznjqnqdl5griva87ro"
   },
   "outputs": [],
   "source": [
    "counts = train_data['oper_type + oper_attr'].value_counts()\n",
    "oper_values = list(counts[counts >= 8].index)\n",
    "len(oper_values)"
   ]
  },
  {
   "cell_type": "markdown",
   "id": "f7b89fd5",
   "metadata": {},
   "source": [
    "Кодирование столбца с типом и атрибутом операции"
   ]
  },
  {
   "cell_type": "code",
   "execution_count": 8,
   "id": "2f914510",
   "metadata": {
    "cellId": "go0263h6rki4zub0cxky2s"
   },
   "outputs": [],
   "source": [
    "for value in tqdm(oper_values):\n",
    "    data[f'is_oper_{value}'] = (data['oper_type + oper_attr'] == value)"
   ]
  },
  {
   "cell_type": "markdown",
   "id": "833c1ff9",
   "metadata": {},
   "source": [
    "Столбцы на основе которых будет выполняться группировка"
   ]
  },
  {
   "cell_type": "code",
   "execution_count": 9,
   "id": "d27d349c",
   "metadata": {
    "cellId": "bsxthdlcpj9urx32fnb96q"
   },
   "outputs": [],
   "source": [
    "cols = [\n",
    "    'index_oper',\n",
    "    'type',\n",
    "    'priority',\n",
    "    'is_privatecategory',\n",
    "    'class',\n",
    "    'is_in_yandex',\n",
    "    'is_return',\n",
    "    'weight',\n",
    "    'mailtype',\n",
    "    'mailctg',\n",
    "    'mailrank',\n",
    "    'directctg',\n",
    "    'transport_pay',\n",
    "    'postmark',\n",
    "    'name_mfi',\n",
    "    'weight_mfi',\n",
    "    'price_mfi',\n",
    "    'dist_qty_oper_login_1',\n",
    "    'total_qty_oper_login_1',\n",
    "    'total_qty_oper_login_0',\n",
    "    'total_qty_over_index_and_type',\n",
    "    'total_qty_over_index',\n",
    "    'is_wrong_sndr_name',\n",
    "    'is_wrong_rcpn_name',\n",
    "    'is_wrong_phone_number',\n",
    "    'is_wrong_address'\n",
    "]"
   ]
  },
  {
   "cell_type": "markdown",
   "id": "db60c66f",
   "metadata": {},
   "source": [
    "Группируем данные. Для операции считаем встретилась ли она у посылки на почтовом пункте"
   ]
  },
  {
   "cell_type": "code",
   "execution_count": 10,
   "id": "1f1d281f",
   "metadata": {
    "cellId": "h64z0rocyw8nfszt72dzl"
   },
   "outputs": [],
   "source": [
    "for value in tqdm(oper_values):\n",
    "    column = f'is_oper_{value}'\n",
    "    series = data.groupby(cols)[column].transform('max')\n",
    "    \n",
    "    train_data[column] = series.loc[train_data.index]\n",
    "    test_data[column] = series.loc[test_data.index]"
   ]
  },
  {
   "cell_type": "markdown",
   "id": "993f6002",
   "metadata": {},
   "source": [
    "Случайное разбиение на обучающую и валидационную выборки с сохранением распределения по классам"
   ]
  },
  {
   "cell_type": "code",
   "execution_count": 11,
   "id": "98b77d87",
   "metadata": {
    "cellId": "u14e1r77l4170jr5xpv4x"
   },
   "outputs": [],
   "source": [
    "neg_idx = list(train_data.loc[train_data.label == 0].index)\n",
    "pos_idx = list(train_data.loc[train_data.label == 1].index)\n",
    "random.shuffle(neg_idx, random=random.seed(56))\n",
    "random.shuffle(pos_idx, random=random.seed(56))\n",
    "train_sz = 0.7\n",
    "train_idx = neg_idx[:int(train_sz*len(neg_idx))] + pos_idx[:int(train_sz*len(pos_idx))]\n",
    "val_idx = neg_idx[int(train_sz*len(neg_idx)):] + pos_idx[int(train_sz*len(pos_idx)):]\n",
    "random.shuffle(train_idx, random=random.seed(56))\n",
    "random.shuffle(val_idx, random=random.seed(56))\n",
    "len(train_idx), len(val_idx)"
   ]
  },
  {
   "cell_type": "markdown",
   "id": "4832bbea",
   "metadata": {},
   "source": [
    "Создание датасета с признаками"
   ]
  },
  {
   "cell_type": "code",
   "execution_count": 12,
   "id": "597ed94e",
   "metadata": {
    "cellId": "qxebgtzrsyezsfq8e3br4d",
    "jupyter": {
     "outputs_hidden": true
    }
   },
   "outputs": [],
   "source": [
    "def YN_encoder(x):\n",
    "    if x == 'Y':\n",
    "        return 1\n",
    "    elif x == 'N':\n",
    "        return 0\n",
    "    else:\n",
    "        return -1\n",
    "    \n",
    "def get_eng_count(x):\n",
    "    count = 0\n",
    "    for letter in x.lower():\n",
    "        count += letter >= 'a' and letter <= 'z'\n",
    "    return count\n",
    "\n",
    "def get_ru_count(x):\n",
    "    count = 0\n",
    "    for letter in x.lower():\n",
    "        count += letter >= 'а' and letter <= 'я' or letter == 'ё'\n",
    "    return count\n",
    "\n",
    "def get_chinese_count(x):\n",
    "    count = 0\n",
    "    for letter in x.lower():\n",
    "        count += letter > u'\\u4e00' and letter < u'\\u9fff'\n",
    "    return count\n",
    "\n",
    "def get_digit_count(x):\n",
    "    count = 0\n",
    "    for letter in x.lower():\n",
    "        count += letter >= '0' and letter <= '9'\n",
    "    return count\n",
    "    \n",
    "def make_df(data):\n",
    "    data[postal_data.columns] = postal_data.loc[data.index_oper].values\n",
    "    \n",
    "    df = pd.DataFrame()\n",
    "    \n",
    "    # добавляем исходные числовые признаки\n",
    "    df[numeric] = data[numeric]\n",
    "        \n",
    "    # ширина и долгота отделения почтовой связи\n",
    "    df['geo_lat'] = data['geo_lat']\n",
    "    df['geo_lon'] = data['geo_lon']\n",
    "    \n",
    "    # новые числовые признаки. \"+ 0.1\" чтобы не делить на ноль\n",
    "    df['total_over_inde/dist_1'] = (df['total_qty_over_index'] + 0.1) / (df['dist_qty_oper_login_1'] + 0.1)\n",
    "    df['total_over_index_and_type/dist_1'] = (df['total_qty_over_index_and_type'] + 0.1) / (df['dist_qty_oper_login_1'] + 0.1)\n",
    "    df['total_0/dist_1'] = (df['total_qty_oper_login_0'] + 0.1) / (df['dist_qty_oper_login_1'] + 0.1)\n",
    "    df['total_1/dist_1'] = (df['total_qty_oper_login_1'] + 0.1) / (df['dist_qty_oper_login_1'] + 0.1)\n",
    "    df['total_over_index/total_1'] = (df['total_qty_over_index'] + 0.1) / (df['total_qty_oper_login_1'] + 0.1)\n",
    "    df['total_0/total_1'] = (df['total_qty_oper_login_0'] + 0.1) / (df['total_qty_oper_login_1'] + 0.1)\n",
    "    df['total_over_index/total_0'] = (df['total_qty_over_index'] + 0.1) / (df['total_qty_oper_login_0'] + 0.1)\n",
    "    \n",
    "    df['ratio_qty_oper_login_1'] = df['total_qty_oper_login_1'] / df['total_qty_over_index_and_type']\n",
    "    df.loc[df.total_qty_over_index_and_type == 0, 'ratio_qty_oper_login_1'] = 0.5\n",
    "    df['ratio_qty_oper_login_0'] = df['total_qty_oper_login_0'] / df['total_qty_over_index_and_type']\n",
    "    df.loc[df.total_qty_over_index_and_type == 0, 'ratio_qty_oper_login_0'] = 0.5\n",
    "    \n",
    "    # числовые признаки на основе name_mfi \n",
    "    df['name_mfi_len'] = data.name_mfi.apply(lambda x: len(x))\n",
    "    df['mfi_count'] = data.name_mfi.apply(lambda x: len(x.split(',')))\n",
    "    df.loc[df.weight_mfi == 0, 'mfi_count'] = 0\n",
    "    df['mfi_mean_weight'] = df['weight_mfi'] / df['mfi_count']\n",
    "    df.loc[df.mfi_count == 0, 'mfi_mean_weight'] = 0\n",
    "    df['mfi_mean_price'] = df['price_mfi'] / df['mfi_count']\n",
    "    df.loc[df.mfi_count == 0, 'mfi_mean_price'] = 0\n",
    "    \n",
    "    # подсчёт количества символов относящихся к разным группам\n",
    "    df['eng_count'] = data['name_mfi'].apply(get_eng_count)\n",
    "    df['ru_count'] = data['name_mfi'].apply(get_ru_count)\n",
    "    df['chinese_count'] = data['name_mfi'].apply(get_chinese_count)\n",
    "    df['digit_count'] = data['name_mfi'].apply(get_digit_count)\n",
    "    \n",
    "    # общее количество введенных некорректно данных\n",
    "    df['is_wrong_count'] = 0\n",
    "    for col in is_wrong:\n",
    "        df[col] = data[col]\n",
    "        df['is_wrong_count'] += data[col]\n",
    "        \n",
    "    # кодирование столбцов с Yes/No\n",
    "    df[f'is_privatecategory'] = data['is_privatecategory'].apply(YN_encoder)\n",
    "    df[f'is_in_yandex'] = data['is_in_yandex'].apply(YN_encoder)\n",
    "    df[f'is_return'] = data['is_return'].apply(YN_encoder)\n",
    "    \n",
    "    # One-hot кодирование категориальных признаков\n",
    "    for value in train_data['type'].unique():\n",
    "        df[f'is_type_{value}'] = (data['type'] == value)\n",
    "        \n",
    "    for value in train_data['class'].unique():\n",
    "        df[f'is_class_{value}'] = (data['class'] == value)\n",
    "        \n",
    "    for value in train_data['mailtype'].unique():\n",
    "        df[f'is_mailtype_{value}'] = (data['mailtype'] == value)\n",
    "        \n",
    "    for value in train_data['mailctg'].unique():\n",
    "        df[f'is_mailctg_{value}'] = (data['mailctg'] == value)\n",
    "        \n",
    "    for value in train_data['directctg'].unique():\n",
    "        df[f'is_directctg_{value}'] = (data['directctg'] == value)\n",
    "        \n",
    "    for value in train_data['postmark'].unique():\n",
    "        df[f'is_postmark_{value}'] = (data['postmark'] == value)\n",
    "    \n",
    "    for value in postal_data['region'].unique():\n",
    "        df[f'is_region_{value}'] = (data['region'] == value)\n",
    "        \n",
    "    for value in index_oper_values:\n",
    "        df[f'is_index_oper_{value}'] = (data['index_oper'] == value)\n",
    "        \n",
    "    # информация о том, какие типы (с атрибутом) операций были совершены с посылкой \n",
    "    for value in oper_values:\n",
    "        column = f'is_oper_{value}'\n",
    "        df[column] = data[column]\n",
    "        \n",
    "    if 'label' in data.columns:\n",
    "        df['label'] = data['label']\n",
    "    return df\n",
    "\n",
    "train_df = make_df(train_data.loc[train_idx])\n",
    "val_df = make_df(train_data.loc[val_idx])\n",
    "train_df"
   ]
  },
  {
   "cell_type": "markdown",
   "id": "37fb7f7c",
   "metadata": {},
   "source": [
    "## Обучение модели"
   ]
  },
  {
   "cell_type": "code",
   "execution_count": 13,
   "id": "3356c985",
   "metadata": {
    "cellId": "95u6yqr3zmw8b2yl6lk3rc"
   },
   "outputs": [],
   "source": [
    "params = {\n",
    "    'task_type': 'CPU',\n",
    "    'loss_function': 'Logloss',\n",
    "    'eval_metric': 'AUC',\n",
    "    'iterations': 1500,\n",
    "    'max_depth': 10,\n",
    "    'learning_rate': 0.04,\n",
    "}"
   ]
  },
  {
   "cell_type": "code",
   "execution_count": 14,
   "id": "92beb187",
   "metadata": {
    "cellId": "o8dsbxgefoldyx2xzpjfht"
   },
   "outputs": [],
   "source": [
    "train_pool = Pool(\n",
    "    train_df.drop('label', axis=1),\n",
    "    train_df['label'],\n",
    ")\n",
    "\n",
    "val_pool = Pool(\n",
    "    val_df.drop('label', axis=1),\n",
    "    val_df['label'],\n",
    ")"
   ]
  },
  {
   "cell_type": "code",
   "execution_count": 15,
   "id": "7c11cd02",
   "metadata": {
    "cellId": "6xj6o2mel2yjka8kxlxa1"
   },
   "outputs": [],
   "source": [
    "gc.collect()\n",
    "model_cb = CatBoostClassifier(**params, random_seed=56)\n",
    "model_cb.fit(train_pool, eval_set=val_pool, verbose=10, plot=False, use_best_model=True)\n",
    "model_cb.get_feature_importance(prettified=True)"
   ]
  },
  {
   "cell_type": "code",
   "execution_count": 16,
   "id": "2dc1d889",
   "metadata": {
    "cellId": "4cwspqcvjznf70cweqh165"
   },
   "outputs": [],
   "source": [
    "prediction = model_cb.predict_proba(val_pool)[:,1]\n",
    "prediction "
   ]
  },
  {
   "cell_type": "markdown",
   "id": "8c2d3188",
   "metadata": {},
   "source": [
    "Для валидации находим оптимальную границу, начиная с которой целевая переменная будет равна одному, и считаем Recall"
   ]
  },
  {
   "cell_type": "code",
   "execution_count": 17,
   "id": "0d486892",
   "metadata": {
    "cellId": "6hg93ftwcmsjwdgk7o72w"
   },
   "outputs": [],
   "source": [
    "scores = []\n",
    "for threshold in tqdm(range(25)):\n",
    "    scores.append((recall_score(val_df['label'], prediction > threshold / 100, average='macro'),  threshold / 100))\n",
    "sorted(scores, reverse=True)[0]"
   ]
  },
  {
   "cell_type": "markdown",
   "id": "21a765c2",
   "metadata": {},
   "source": [
    "## Получение предсказаний"
   ]
  },
  {
   "cell_type": "code",
   "execution_count": 18,
   "id": "e66adff3",
   "metadata": {
    "cellId": "dx99r8fgfsckg4u9hitfp",
    "jupyter": {
     "outputs_hidden": true
    }
   },
   "outputs": [],
   "source": [
    "test_df = make_df(test_data)\n",
    "test_df"
   ]
  },
  {
   "cell_type": "code",
   "execution_count": 19,
   "id": "4abe03d4",
   "metadata": {
    "cellId": "wmssua68l69a4kla707gy"
   },
   "outputs": [],
   "source": [
    "prediction = model_cb.predict_proba(test_df)[:,1]\n",
    "prediction"
   ]
  },
  {
   "cell_type": "code",
   "execution_count": 20,
   "id": "a559dfec",
   "metadata": {
    "cellId": "d58vi3gin6jb9inzct4u2t"
   },
   "outputs": [],
   "source": [
    "np.sum((prediction > 0.005).astype(int))"
   ]
  },
  {
   "cell_type": "code",
   "execution_count": 21,
   "id": "9f27eacf",
   "metadata": {
    "cellId": "2c37rh2o8gmgqiy865rra"
   },
   "outputs": [],
   "source": [
    "pd.DataFrame({'id': test_df.index, 'label': (prediction > 0.005).astype(int)}).to_csv('./submission.csv', index=False, line_terminator='\\n')"
   ]
  }
 ],
 "metadata": {
  "kernelspec": {
   "display_name": "Python 3 (ipykernel)",
   "language": "python",
   "name": "python3"
  },
  "language_info": {
   "codemirror_mode": {
    "name": "ipython",
    "version": 3
   },
   "file_extension": ".py",
   "mimetype": "text/x-python",
   "name": "python",
   "nbconvert_exporter": "python",
   "pygments_lexer": "ipython3",
   "version": "3.9.12"
  },
  "notebookId": "bfaaaed7-94f3-4a86-8a7c-7f665bfc6449",
  "notebookPath": "Untitled.ipynb"
 },
 "nbformat": 4,
 "nbformat_minor": 5
}
